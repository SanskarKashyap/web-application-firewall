{
 "cells": [
  {
   "cell_type": "code",
   "execution_count": 7,
   "id": "aeae176f",
   "metadata": {},
   "outputs": [],
   "source": [
    "import pandas as pd\n",
    "http=pd.read_csv(r'C:\\Users\\tusha\\Documents\\minor project\\httplog.csv')"
   ]
  },
  {
   "cell_type": "code",
   "execution_count": 8,
   "id": "8de5e672",
   "metadata": {},
   "outputs": [],
   "source": [
    "from pycaret.clustering import *\n",
    "clu1=setup(dat=http, normalize= True ,numeric_features=['single_q','double_quote','dashes','braces','spaces','badwords'],ignore_features=['method','path','body','class'])"
   ]
  },
  {
   "cell_type": "code",
   "execution_count": null,
   "id": "6a54efb8",
   "metadata": {},
   "outputs": [],
   "source": [
    "kmeans=create_model('kmeans',num_clusters=2)"
   ]
  },
  {
   "cell_type": "code",
   "execution_count": null,
   "id": "09ad3ac9",
   "metadata": {},
   "outputs": [],
   "source": [
    "plot_model(kmeans)"
   ]
  },
  {
   "cell_type": "code",
   "execution_count": null,
   "id": "210f6a46",
   "metadata": {},
   "outputs": [],
   "source": [
    "plot_model(kmeans,plot='tsne')"
   ]
  },
  {
   "cell_type": "code",
   "execution_count": null,
   "id": "4f0d445a",
   "metadata": {},
   "outputs": [],
   "source": [
    "kmeans_result=assign_model(kmeans)"
   ]
  },
  {
   "cell_type": "code",
   "execution_count": null,
   "id": "10205b7b",
   "metadata": {},
   "outputs": [],
   "source": [
    "kmeans_result.to_csv(r'C:\\Users\\tusha\\Documents\\minor project\\kmeans_result.csv')"
   ]
  },
  {
   "cell_type": "code",
   "execution_count": null,
   "id": "3808f07e",
   "metadata": {},
   "outputs": [],
   "source": [
    "#testing"
   ]
  },
  {
   "cell_type": "code",
   "execution_count": null,
   "id": "1fe0dd0e",
   "metadata": {},
   "outputs": [],
   "source": [
    "test_data=pd.read_csv(r'C:\\Users\\tusha\\Documents\\minor project\\kmeans_result.csv')"
   ]
  },
  {
   "cell_type": "code",
   "execution_count": null,
   "id": "a0f26e78",
   "metadata": {},
   "outputs": [],
   "source": [
    "test_data.head()"
   ]
  },
  {
   "cell_type": "code",
   "execution_count": null,
   "id": "7ceda09d",
   "metadata": {},
   "outputs": [],
   "source": [
    "test_result=pred_holdout=predict_model(kmeans,data=test_data)"
   ]
  },
  {
   "cell_type": "code",
   "execution_count": null,
   "id": "d3ff56aa",
   "metadata": {},
   "outputs": [],
   "source": [
    "test_result.to_csv(r'C:\\Users\\tusha\\Documents\\minor project\\test_result.csv')"
   ]
  },
  {
   "cell_type": "code",
   "execution_count": null,
   "id": "cf6f7f95",
   "metadata": {},
   "outputs": [],
   "source": []
  },
  {
   "cell_type": "code",
   "execution_count": null,
   "id": "1c05d3df",
   "metadata": {},
   "outputs": [],
   "source": [
    " "
   ]
  },
  {
   "cell_type": "code",
   "execution_count": null,
   "id": "75dca328",
   "metadata": {},
   "outputs": [],
   "source": []
  },
  {
   "cell_type": "code",
   "execution_count": null,
   "id": "39093e40",
   "metadata": {},
   "outputs": [],
   "source": []
  }
 ],
 "metadata": {
  "kernelspec": {
   "display_name": "Python 3 (ipykernel)",
   "language": "python",
   "name": "python3"
  },
  "language_info": {
   "codemirror_mode": {
    "name": "ipython",
    "version": 3
   },
   "file_extension": ".py",
   "mimetype": "text/x-python",
   "name": "python",
   "nbconvert_exporter": "python",
   "pygments_lexer": "ipython3",
   "version": "3.9.13"
  }
 },
 "nbformat": 4,
 "nbformat_minor": 5
}
