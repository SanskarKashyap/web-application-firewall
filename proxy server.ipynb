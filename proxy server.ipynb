{
 "cells": [
  {
   "cell_type": "code",
   "execution_count": null,
   "id": "61a12134",
   "metadata": {},
   "outputs": [],
   "source": [
    "class SimpleHTTPProxy(SimpleHTTPRequestHandler):\n",
    "    proxy_routes={}\n",
    "    \n",
    "    @classmethod\n",
    "    def set_routes(cls,proxy_routes):\n",
    "        cls.proxy_routes=proxy_routes\n",
    "        \n",
    "    def do_GET(self):\n",
    "        parts=self.path.split('/')\n",
    "        print(parts)\n",
    "        live_data=ExtractFeatures(part[3])\n",
    "        result=predict_model(kmeans,data=live_data)\n",
    "        print(result['Cluster'][0])\n",
    "        if result['Cluster'][0]==\"Cluster 1\":\n",
    "            print('Intrusion detected')\n",
    "        if len(parts) >= 2:\n",
    "            self.proxy_request('http://'+parts[2]+'/')\n",
    "        else:\n",
    "            super().do_GET()\n",
    "            \n",
    "    def porxy_request(self,url):\n",
    "        try:\n",
    "            response =request.urlopen(url)\n",
    "        except error.HTTPError as e:\n",
    "            print('err')\n",
    "            self.send_response_only(e.code)\n",
    "            self.end_header()\n",
    "            return\n",
    "        self.send_response_only(response.status)\n",
    "        for name,value in respone.headers.items():\n",
    "            self.send_headers()\n",
    "        self.end_headers()\n",
    "        self.copyfile(response,self.wfile)\n",
    "SimpleHTTPPProxy.set_routes({'proxy_route':'http://demo.testfire.net/'})\n",
    "with HTTPServer(('127.0.0.1',8080),SimpleHTTPProxy) as httpd:\n",
    "    host,port=httpd.socket.getsockname()\n",
    "    print(f'Listening on http://{host}:{port}')\n",
    "    try:\n",
    "        httpd.serve_forever()\n",
    "    except KeyboardInterrupt:\n",
    "        print(\"\\nKeyboard interrupt received,exiting.\")\n",
    "        sys.exit(0)\n",
    "        "
   ]
  }
 ],
 "metadata": {
  "kernelspec": {
   "display_name": "Python 3 (ipykernel)",
   "language": "python",
   "name": "python3"
  },
  "language_info": {
   "codemirror_mode": {
    "name": "ipython",
    "version": 3
   },
   "file_extension": ".py",
   "mimetype": "text/x-python",
   "name": "python",
   "nbconvert_exporter": "python",
   "pygments_lexer": "ipython3",
   "version": "3.9.13"
  }
 },
 "nbformat": 4,
 "nbformat_minor": 5
}
